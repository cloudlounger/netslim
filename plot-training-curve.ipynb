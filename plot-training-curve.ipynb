{
 "cells": [
  {
   "cell_type": "code",
   "execution_count": null,
   "metadata": {},
   "outputs": [],
   "source": [
    "%matplotlib inline \n",
    "import os\n",
    "import re\n",
    "from operator import itemgetter\n",
    "from matplotlib import pyplot\n",
    "\n",
    "num_template = r\"[-+]?[0-9]*\\.?[0-9]+([eE][-+]?[0-9]+)?\"\n",
    "root_dir = \"output-cifar100-vgg14\"\n",
    "template = \"^bs_.*|ot_.*|ns_.*$\"\n",
    "#template = \"^ot_wd_{num}_bsp_{num}$\"\n",
    "regex = re.compile(template.format(num=num_template))\n",
    "output_dirs = os.listdir(root_dir)\n",
    "\n",
    "logfiles = []\n",
    "output_dirs = [_ for _ in output_dirs if regex.match(_)]\n",
    "for outdir in output_dirs:\n",
    "    logfiles.append(os.path.join(root_dir, outdir, \"training.log\"))\n",
    "\n",
    "max_accuracy = {}\n",
    "iterations = {}\n",
    "pyplot.figure(\"Training cuve\", figsize=(12, 8))\n",
    "for logfile in logfiles:\n",
    "    logname = os.path.split(logfile)[0]\n",
    "    with open(logfile, 'r') as f:\n",
    "        lines = f.readlines()\n",
    "        curve = [(int(epoch), float(accuracy)) for epoch, accuracy in [x.split() for x in lines]]\n",
    "        pyplot.plot([x[0] for x in curve], [x[1] for x in curve], label=logname)\n",
    "        max_accuracy[logname] = max([x[1] for x in curve])\n",
    "        iterations[logname] = len(curve)\n",
    "\n",
    "sorted_accuracy_items = sorted([(k, v) for k, v in max_accuracy.items()], key=itemgetter(1), reverse=True)\n",
    "for k, v in sorted_accuracy_items:\n",
    "    line = \"{}, Accuracy: {:.4f}, Progress: {}\".format(k, v, iterations[k])\n",
    "    print(line)\n",
    "\n",
    "pyplot.legend(loc='lower right')\n"
   ]
  }
 ],
 "metadata": {
  "kernelspec": {
   "display_name": "Python 3",
   "language": "python",
   "name": "python3"
  },
  "language_info": {
   "codemirror_mode": {
    "name": "ipython",
    "version": 3
   },
   "file_extension": ".py",
   "mimetype": "text/x-python",
   "name": "python",
   "nbconvert_exporter": "python",
   "pygments_lexer": "ipython3",
   "version": "3.7.3"
  }
 },
 "nbformat": 4,
 "nbformat_minor": 4
}
